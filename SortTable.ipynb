{
  "nbformat": 4,
  "nbformat_minor": 0,
  "metadata": {
    "colab": {
      "name": "Untitled10.ipynb",
      "provenance": [],
      "authorship_tag": "ABX9TyPBQFzHw+1GAnxre2EhHRfQ",
      "include_colab_link": true
    },
    "kernelspec": {
      "name": "python3",
      "display_name": "Python 3"
    },
    "language_info": {
      "name": "python"
    }
  },
  "cells": [
    {
      "cell_type": "markdown",
      "metadata": {
        "id": "view-in-github",
        "colab_type": "text"
      },
      "source": [
        "<a href=\"https://colab.research.google.com/github/DanieldeMarko/DanieldeMarko/blob/main/SortTable.ipynb\" target=\"_parent\"><img src=\"https://colab.research.google.com/assets/colab-badge.svg\" alt=\"Open In Colab\"/></a>"
      ]
    },
    {
      "cell_type": "code",
      "execution_count": null,
      "metadata": {
        "colab": {
          "base_uri": "https://localhost:8080/"
        },
        "id": "6nOUzC4NP9_f",
        "outputId": "37b9d5ab-fc96-43a0-91e1-46a7505137b9"
      },
      "outputs": [
        {
          "output_type": "stream",
          "name": "stdout",
          "text": [
            "  product_name  price operational system\n",
            "4        chair    200                n/a\n",
            "3         desk    450                n/a\n",
            "0       laptop   1200         Windows 11\n",
            "1      printer    150                Dos\n",
            "2       tablet    300         Android 12\n"
          ]
        }
      ],
      "source": [
        "from numpy import False_\n",
        "import pandas as pd\n",
        "\n",
        "data = {'product_name': ['laptop', 'printer', 'tablet', 'desk', 'chair'],\n",
        "        'price': [1200, 150, 300, 450, 200],\n",
        "        'operational system': ['Windows 11', 'Dos', 'Android 12', 'n/a', 'n/a']\n",
        "        }\n",
        "\n",
        "df = pd.DataFrame(data)\n",
        "\n",
        "min_price = df['price'].min()\n",
        "#df_sorted = df.sort_values('product_name')\n",
        "#Sor by multi columns\n",
        "df_sorted = df.sort_values(['product_name'], ascending=(True)) \n",
        "\n",
        "#newdf = df.sort_values(by='price') \n",
        "\n",
        "print (df_sorted)\n",
        "#print (newdf)\n"
      ]
    }
  ]
}