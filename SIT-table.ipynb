{
  "nbformat": 4,
  "nbformat_minor": 0,
  "metadata": {
    "colab": {
      "name": "Untitled9.ipynb",
      "provenance": [],
      "authorship_tag": "ABX9TyM8WjTh/qwzhJEXM9EtW/4y",
      "include_colab_link": true
    },
    "kernelspec": {
      "name": "python3",
      "display_name": "Python 3"
    },
    "language_info": {
      "name": "python"
    }
  },
  "cells": [
    {
      "cell_type": "markdown",
      "metadata": {
        "id": "view-in-github",
        "colab_type": "text"
      },
      "source": [
        "<a href=\"https://colab.research.google.com/github/DanieldeMarko/DanieldeMarko/blob/main/SIT-table.ipynb\" target=\"_parent\"><img src=\"https://colab.research.google.com/assets/colab-badge.svg\" alt=\"Open In Colab\"/></a>"
      ]
    },
    {
      "cell_type": "code",
      "execution_count": null,
      "metadata": {
        "colab": {
          "base_uri": "https://localhost:8080/"
        },
        "id": "h2w1eM4sYh3E",
        "outputId": "c920f816-0bd5-4963-b1cc-e5b43d4c6f44"
      },
      "outputs": [
        {
          "output_type": "stream",
          "name": "stdout",
          "text": [
            "   Vendor Name 1 POrg  Purch.Doc. Document Type PO Date Request date  \\\n",
            "82    NaN    NaN  NaN   113431659           NaN     NaN          NaN   \n",
            "83    NaN    NaN  NaN   115766705           NaN     NaN          NaN   \n",
            "84    NaN    NaN  NaN   115766706           NaN     NaN          NaN   \n",
            "85    NaN    NaN  NaN   115766997           NaN     NaN          NaN   \n",
            "79    NaN    NaN  NaN   115805212           NaN     NaN          NaN   \n",
            "..    ...    ...  ...         ...           ...     ...          ...   \n",
            "75    NaN    NaN  NaN  4500373949           NaN     NaN          NaN   \n",
            "74    NaN    NaN  NaN  4500373949           NaN     NaN          NaN   \n",
            "76    NaN    NaN  NaN  4500373950           NaN     NaN          NaN   \n",
            "77    NaN    NaN  NaN  4500375624           NaN     NaN          NaN   \n",
            "78    NaN    NaN  NaN  4500378946           NaN     NaN          NaN   \n",
            "\n",
            "   Confirmed date Item Material Number  ... Reference Date Reception  \\\n",
            "82            NaN  NaN             NaN  ...       NaN            NaN   \n",
            "83            NaN  NaN             NaN  ...       NaN            NaN   \n",
            "84            NaN  NaN             NaN  ...       NaN            NaN   \n",
            "85            NaN  NaN             NaN  ...       NaN            NaN   \n",
            "79            NaN  NaN             NaN  ...       NaN            NaN   \n",
            "..            ...  ...             ...  ...       ...            ...   \n",
            "75            NaN  NaN             NaN  ...       NaN            NaN   \n",
            "74            NaN  NaN             NaN  ...       NaN            NaN   \n",
            "76            NaN  NaN             NaN  ...       NaN            NaN   \n",
            "77            NaN  NaN             NaN  ...       NaN            NaN   \n",
            "78            NaN  NaN             NaN  ...       NaN            NaN   \n",
            "\n",
            "   Qty Receipt Contract type Contract Nr Contract line Contract Qty Ord  \\\n",
            "82         NaN           NaN         NaN           NaN              NaN   \n",
            "83         NaN           NaN         NaN           NaN              NaN   \n",
            "84         NaN           NaN         NaN           NaN              NaN   \n",
            "85         NaN           NaN         NaN           NaN              NaN   \n",
            "79         NaN           NaN         NaN           NaN              NaN   \n",
            "..         ...           ...         ...           ...              ...   \n",
            "75         NaN           NaN         NaN           NaN              NaN   \n",
            "74         NaN           NaN         NaN           NaN              NaN   \n",
            "76         NaN           NaN         NaN           NaN              NaN   \n",
            "77         NaN           NaN         NaN           NaN              NaN   \n",
            "78         NaN           NaN         NaN           NaN              NaN   \n",
            "\n",
            "   Contract Qty not arr Doc number Doc version  \n",
            "82                  NaN        NaN         NaN  \n",
            "83                  NaN        NaN         NaN  \n",
            "84                  NaN        NaN         NaN  \n",
            "85                  NaN        NaN         NaN  \n",
            "79                  NaN        NaN         NaN  \n",
            "..                  ...        ...         ...  \n",
            "75                  NaN        NaN         NaN  \n",
            "74                  NaN        NaN         NaN  \n",
            "76                  NaN        NaN         NaN  \n",
            "77                  NaN        NaN         NaN  \n",
            "78                  NaN        NaN         NaN  \n",
            "\n",
            "[99 rows x 28 columns]\n"
          ]
        }
      ],
      "source": [
        "from pandas.io.common import file_exists\n",
        "from requests.api import head\n",
        "import requests\n",
        "import pandas as pd\n",
        "\n",
        "\n",
        "url = \"https://github.com/DanieldeMarko/DanieldeMarko/blob/main/sit-test.xlsx?raw=true\"\n",
        "\n",
        "response = requests.get(url)\n",
        "\n",
        "df1 = 'sit-test.xlsx'\n",
        "\n",
        "with open(df1, 'wb') as file:\n",
        "    file.write(response.content)\n",
        "\n",
        "df = pd.read_excel(df1)\n",
        "df.head(105)\n",
        "#frame.tail()\n",
        "#writer = pd.ExcelWriter('converted-to-excel.xlsx')\n",
        "#frame.to_excel('sit2.xlsx')\n",
        "#files.download('sit2.xlsx')\n",
        "#We'll use an example of data 'x'\n",
        "#change it into a data frame before exporting it\n",
        "#This time sheet_name has an underscoredf = pd.DataFrame(x)\n",
        "#frame.to_excel('123sit.xlsx', sheet_name = 'СИТ')\n",
        "#writer = pd.ExcelWriter('converted-to-excel.xlsx')\n",
        "#df.to_excel(\"path\\sex.xlsx\")\n",
        "\n",
        "\n",
        "data = {'Purch.Doc.': ['4500321950', '4500324016','4500326443','4500326447', '4500331340', '4500332063', '4500332320', '4500332321', '4500332322', '4500339202' , '4500339203',  '4500341404', '4500341405', '4500348556', '4500348556', '4500348557', '4500349741', '4500349741', '4500351475', '4500352217', '4500352217', '4500352217', '4500353636', '4500353639', '4500353640', \n",
        "'4500353641', '4500353642', '4500353643', '4500353644', '4500353645', '4500354581', '4500362885', '4500362885',\n",
        "'4500361934', '4500361935', '4500362885', '4500362885', '4500362885', '4500362885', '4500363088', '4500363089',\n",
        "'4500363090', '4500363091', '4500363091', '4500363092', '4500363093', '4500363094', '4500363095', '4500363095',\n",
        "'4500363974', '4500363975', '4500363976', '4500363977', '4500363978', '4500365175', '4500365175', '4500365176', \n",
        "'4500365177', '4500365178', '4500365179', '4500365180', '4500365181', '4500365182', '4500367086', '4500367087',\n",
        "'4500367088', '4500368836', '4500370556', '4500370557', '4500370558', '4500370560', '4500370561', '4500370562',\n",
        "'4500370563', '4500373949', '4500373949', '4500373950','4500375624', '4500378946', '115805212', '115805213',\n",
        "'115805214', '113431659', '115766705', '115766706', '115766997', '115805296', '115805328', '115805329', '115805330', '115805331', '115805332', '115805333', '115805334', '115805363', '115805364', '115805365', '115805366', '115805367'\n",
        "'115767505']}\n",
        "\n",
        "df = pd.DataFrame(data, columns=['Vendor',\t'Name 1',\t'POrg',\t'Purch.Doc.',\t'Document Type',\t\n",
        "'PO Date',\t'Request date',\t'Confirmed date',\t'Item',\t'Material Number',\t'Material Description',\t\n",
        "'Plnt',\t'SLoc',\t'RevLev',\t'Vendor Material Number',\t'BUn',\t'Qty Order',\t'Qty not arrived',\t'Reference',\t\n",
        "'Date Reception',\t'Qty Receipt',\t'Contract type',\t'Contract Nr',\t'Contract line',\t'Contract Qty Ord',\t'Contract Qty not arr',\t'Doc number',\t'Doc version'])\n",
        "\n",
        "newdf = df.sort_values(by='Purch.Doc.') \n",
        "\n",
        "print (newdf)\n",
        "\n",
        "\n",
        "\n",
        "\n",
        "\n",
        "         \n"
      ]
    },
    {
      "cell_type": "code",
      "source": [
        ""
      ],
      "metadata": {
        "id": "bmp_fugHP1xJ"
      },
      "execution_count": null,
      "outputs": []
    }
  ]
}