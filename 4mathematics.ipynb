{
  "nbformat": 4,
  "nbformat_minor": 0,
  "metadata": {
    "colab": {
      "name": "Untitled7.ipynb",
      "provenance": [],
      "authorship_tag": "ABX9TyN5dp147jWWJK8dCpB00Y7u",
      "include_colab_link": true
    },
    "kernelspec": {
      "name": "python3",
      "display_name": "Python 3"
    },
    "language_info": {
      "name": "python"
    }
  },
  "cells": [
    {
      "cell_type": "markdown",
      "metadata": {
        "id": "view-in-github",
        "colab_type": "text"
      },
      "source": [
        "<a href=\"https://colab.research.google.com/github/DanieldeMarko/DanieldeMarko/blob/main/4mathematics.ipynb\" target=\"_parent\"><img src=\"https://colab.research.google.com/assets/colab-badge.svg\" alt=\"Open In Colab\"/></a>"
      ]
    },
    {
      "cell_type": "code",
      "execution_count": 1,
      "metadata": {
        "colab": {
          "base_uri": "https://localhost:8080/"
        },
        "id": "nsm3DR65U255",
        "outputId": "b249ad00-3863-4833-cf2e-f6ccbf519077"
      },
      "outputs": [
        {
          "output_type": "stream",
          "name": "stdout",
          "text": [
            "Enter first number: 10\n",
            "Enter second number: 5\n",
            "Enther third number2\n",
            "The sum of 10, 5 and 2 is 17.0\n",
            "The subtraction of 10, 5 and 2 is 3.0\n",
            "The multiplication of 10, 5 and 2 is 100.0\n",
            "The division of 10, 5, 2 is 1.0\n"
          ]
        }
      ],
      "source": [
        "#-------------------------------------------------------------------------------\n",
        "# Name:        module1\n",
        "# Purpose:\n",
        "#\n",
        "# Author:      Daniel.Karapandov\n",
        "#\n",
        "# Created:     04/08/2022\n",
        "# Copyright:   (c) Daniel.Karapandov 2022\n",
        "# Licence:     <your licence>\n",
        "#-------------------------------------------------------------------------------\n",
        "\n",
        "def main():\n",
        "    pass\n",
        "\n",
        "if __name__ == '__main__':\n",
        "    main()\n",
        "\n",
        "\n",
        "\n",
        "# Store input numbers:\n",
        "num1 = input('Enter first number: ')\n",
        "num2 = input('Enter second number: ')\n",
        "num3 = input('Enther third number')\n",
        "# Add two numbers\n",
        "sum = float(num1) + float(num2) + float(num3)\n",
        "# Subtract two numbers\n",
        "min = float(num1) - float(num2) - float(num3)\n",
        "# Multiply two numbers\n",
        "mul = float(num1) * float(num2) * float(num3)\n",
        "#Divide two numbers\n",
        "div = float(num1) / float(num2) / float(num3)\n",
        "# Display the sum\n",
        "print('The sum of {0}, {1} and {2} is {3}'.format(num1, num2, num3, sum))\n",
        "\n",
        "# Display the subtraction\n",
        "print('The subtraction of {0}, {1} and {2} is {3}'.format(num1, num2, num3, min))\n",
        "# Display the multiplication\n",
        "print('The multiplication of {0}, {1} and {2} is {3}'.format(num1, num2, num3, mul))\n",
        "# Display the division\n",
        "print('The division of {0}, {1}, {2} is {3}'.format(num1, num2, num3, div))"
      ]
    }
  ]
}